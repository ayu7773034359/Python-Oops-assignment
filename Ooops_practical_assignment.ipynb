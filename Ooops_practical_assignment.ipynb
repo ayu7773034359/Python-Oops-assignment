{
  "nbformat": 4,
  "nbformat_minor": 0,
  "metadata": {
    "colab": {
      "provenance": []
    },
    "kernelspec": {
      "name": "python3",
      "display_name": "Python 3"
    },
    "language_info": {
      "name": "python"
    }
  },
  "cells": [
    {
      "cell_type": "markdown",
      "source": [
        " 1.Create a parent class Animal with a method speak() that prints a generic message. Create a child class Dog\n",
        "that overrides the speak() method to print \"Bark!\"."
      ],
      "metadata": {
        "id": "dngniwh_VcDt"
      }
    },
    {
      "cell_type": "code",
      "execution_count": 1,
      "metadata": {
        "colab": {
          "base_uri": "https://localhost:8080/"
        },
        "id": "pWzpEqBsVU9e",
        "outputId": "3587e1f7-4610-4ede-a70b-6cd08994373f"
      },
      "outputs": [
        {
          "output_type": "stream",
          "name": "stdout",
          "text": [
            "The animal makes a sound.\n",
            "Bark!\n"
          ]
        }
      ],
      "source": [
        "# Parent class\n",
        "class Animal:\n",
        "    def speak(self):\n",
        "        print(\"The animal makes a sound.\")\n",
        "\n",
        "# Child class\n",
        "class Dog(Animal):\n",
        "    def speak(self):\n",
        "        print(\"Bark!\")\n",
        "\n",
        "# Example usage\n",
        "if __name__ == \"__main__\":\n",
        "    animal = Animal()\n",
        "    animal.speak()  # Output: The animal makes a sound.\n",
        "\n",
        "    dog = Dog()\n",
        "    dog.speak()     # Output: Bark!"
      ]
    },
    {
      "cell_type": "markdown",
      "source": [
        " 2.Write a program to create an abstract class Shape with a method area(). Derive classes Circle and Rectangle\n",
        "from it and implement the area() method in both."
      ],
      "metadata": {
        "id": "6VY7AAIdVzb0"
      }
    },
    {
      "cell_type": "code",
      "source": [
        "from abc import ABC, abstractmethod\n",
        "import math\n",
        "\n",
        "# Abstract class\n",
        "class Shape(ABC):\n",
        "    @abstractmethod\n",
        "    def area(self):\n",
        "        pass\n",
        "\n",
        "# Circle class derived from Shape\n",
        "class Circle(Shape):\n",
        "    def __init__(self, radius):\n",
        "        self.radius = radius\n",
        "\n",
        "    def area(self):\n",
        "        return math.pi * (self.radius ** 2)\n",
        "\n",
        "# Rectangle class derived from Shape\n",
        "class Rectangle(Shape):\n",
        "    def __init__(self, width, height):\n",
        "        self.width = width\n",
        "        self.height = height\n",
        "\n",
        "    def area(self):\n",
        "        return self.width * self.height\n",
        "\n",
        "# Example usage\n",
        "if __name__ == \"__main__\":\n",
        "    circle = Circle(5)\n",
        "    print(\"Area of Circle:\", circle.area())  # Output: Area of Circle: 78.53981633974483\n",
        "\n",
        "    rectangle = Rectangle(4, 6)\n",
        "    print(\"Area of Rectangle:\", rectangle.area())  # Output: Area of Rectangle: 24\n"
      ],
      "metadata": {
        "colab": {
          "base_uri": "https://localhost:8080/"
        },
        "id": "vs5JrdnzVs6X",
        "outputId": "5e6a60d0-7057-4333-9956-f10efb052dbe"
      },
      "execution_count": 2,
      "outputs": [
        {
          "output_type": "stream",
          "name": "stdout",
          "text": [
            "Area of Circle: 78.53981633974483\n",
            "Area of Rectangle: 24\n"
          ]
        }
      ]
    },
    {
      "cell_type": "markdown",
      "source": [
        " 3. Implement a multi-level inheritance scenario where a class Vehicle has an attribute type. Derive a class Car\n",
        "and further derive a class ElectricCar that adds a battery attribute."
      ],
      "metadata": {
        "id": "tlgraC6_WKzg"
      }
    },
    {
      "cell_type": "code",
      "source": [
        "# Base class\n",
        "class Vehicle:\n",
        "    def __init__(self, vehicle_type):\n",
        "        self.vehicle_type = vehicle_type\n",
        "\n",
        "    def display_type(self):\n",
        "        print(f\"This is a {self.vehicle_type}.\")\n",
        "\n",
        "# Derived class\n",
        "class Car(Vehicle):\n",
        "    def __init__(self, vehicle_type, brand):\n",
        "        super().__init__(vehicle_type)  # Call constructor of Vehicle\n",
        "        self.brand = brand\n",
        "\n",
        "    def display_info(self):\n",
        "        print(f\"This is a {self.vehicle_type} of brand {self.brand}.\")\n",
        "\n",
        "# Further derived class\n",
        "class ElectricCar(Car):\n",
        "    def __init__(self, vehicle_type, brand, battery_capacity):\n",
        "        super().__init__(vehicle_type, brand)  # Call constructor of Car\n",
        "        self.battery_capacity = battery_capacity\n",
        "\n",
        "    def display_battery(self):\n",
        "        print(f\"This electric car has a battery capacity of {self.battery_capacity} kWh.\")\n",
        "\n",
        "# Example usage\n",
        "if __name__ == \"__main__\":\n",
        "    vehicle = Vehicle(\"vehicle\")\n",
        "    vehicle.display_type()  # Output: This is a vehicle.\n",
        "\n",
        "    car = Car(\"car\", \"Toyota\")\n",
        "    car.display_type()      # Output: This is a car.\n",
        "    car.display_info()      # Output: This is a car of brand Toyota.\n",
        "\n",
        "    electric_car = ElectricCar(\"electric car\", \"Tesla\", 75)\n",
        "    electric_car.display_type()      # Output: This is an electric car.\n",
        "    electric_car.display_info()       # Output: This is an electric car of brand Tesla.\n",
        "    electric_car.display_battery()    # Output: This electric car has a battery capacity of 75 kWh.\n"
      ],
      "metadata": {
        "colab": {
          "base_uri": "https://localhost:8080/"
        },
        "id": "Dq3SQtL6WcaC",
        "outputId": "e33918d7-c198-4443-e97c-255056aaa0fd"
      },
      "execution_count": 5,
      "outputs": [
        {
          "output_type": "stream",
          "name": "stdout",
          "text": [
            "This is a vehicle.\n",
            "This is a car.\n",
            "This is a car of brand Toyota.\n",
            "This is a electric car.\n",
            "This is a electric car of brand Tesla.\n",
            "This electric car has a battery capacity of 75 kWh.\n"
          ]
        }
      ]
    },
    {
      "cell_type": "markdown",
      "source": [
        " 4.Demonstrate polymorphism by creating a base class Bird with a method fly(). Create two derived classes\n",
        "Sparrow and Penguin that override the fly() method.\n"
      ],
      "metadata": {
        "id": "azInLH-fWjM0"
      }
    },
    {
      "cell_type": "code",
      "source": [
        "# Base class\n",
        "class Bird:\n",
        "    def fly(self):\n",
        "        raise NotImplementedError(\"Subclasses must implement this method.\")\n",
        "\n",
        "# Derived class for Sparrow\n",
        "class Sparrow(Bird):\n",
        "    def fly(self):\n",
        "        return \"The sparrow soars through the sky!\"\n",
        "\n",
        "# Derived class for Penguin\n",
        "class Penguin(Bird):\n",
        "    def fly(self):\n",
        "        return \"The penguin cannot fly but can swim very well.\"\n",
        "\n",
        "# Function to demonstrate polymorphism\n",
        "def bird_fly(bird):\n",
        "    print(bird.fly())\n",
        "\n",
        "# Example usage\n",
        "if __name__ == \"__main__\":\n",
        "    sparrow = Sparrow()\n",
        "    penguin = Penguin()\n",
        "\n",
        "    bird_fly(sparrow)  # Output: The sparrow soars through the sky!\n",
        "    bird_fly(penguin)  # Output: The penguin cannot fly but can swim very well."
      ],
      "metadata": {
        "colab": {
          "base_uri": "https://localhost:8080/"
        },
        "id": "rNy5tJ7fWhnI",
        "outputId": "c65771c9-c973-477d-c519-55216609a0d8"
      },
      "execution_count": 6,
      "outputs": [
        {
          "output_type": "stream",
          "name": "stdout",
          "text": [
            "The sparrow soars through the sky!\n",
            "The penguin cannot fly but can swim very well.\n"
          ]
        }
      ]
    },
    {
      "cell_type": "markdown",
      "source": [
        " 5.Write a program to demonstrate encapsulation by creating a class BankAccount with private attributes\n",
        "balance and methods to deposit, withdraw, and check balance."
      ],
      "metadata": {
        "id": "2W29mA1YWzrV"
      }
    },
    {
      "cell_type": "code",
      "source": [
        "class BankAccount:\n",
        "    def __init__(self):\n",
        "        self.__balance = 0.0  # Private attribute\n",
        "\n",
        "    def deposit(self, amount):\n",
        "        \"\"\"Deposit money into the bank account.\"\"\"\n",
        "        if amount > 0:\n",
        "            self.__balance += amount\n",
        "            print(f\"Deposited: ${amount:.2f}\")\n",
        "        else:\n",
        "            print(\"Deposit amount must be positive.\")\n",
        "\n",
        "    def withdraw(self, amount):\n",
        "        \"\"\"Withdraw money from the bank account.\"\"\"\n",
        "        if 0 < amount <= self.__balance:\n",
        "            self.__balance -= amount\n",
        "            print(f\"Withdrew: ${amount:.2f}\")\n",
        "        else:\n",
        "            print(\"Insufficient funds or invalid withdrawal amount.\")\n",
        "\n",
        "    def check_balance(self):\n",
        "        \"\"\"Check the current balance of the bank account.\"\"\"\n",
        "        print(f\"Current balance: ${self.__balance:.2f}\")\n",
        "\n",
        "# Example usage\n",
        "if __name__ == \"__main__\":\n",
        "    account = BankAccount()\n",
        "    account.check_balance()  # Output: Current balance: $0.00\n",
        "\n",
        "    account.deposit(100.00)  # Output: Deposited: $100.00\n",
        "    account.check_balance()   # Output: Current balance: $100.00\n",
        "\n",
        "    account.withdraw(50.00)   # Output: Withdrew: $50.00\n",
        "    account.check_balance()    # Output: Current balance: $50.00\n",
        "\n",
        "    account.withdraw(100.00)  # Output: Insufficient funds or invalid withdrawal amount."
      ],
      "metadata": {
        "colab": {
          "base_uri": "https://localhost:8080/"
        },
        "id": "H726b1NwWyaT",
        "outputId": "803977f3-8756-48fa-b15b-6dee5ab04f88"
      },
      "execution_count": 7,
      "outputs": [
        {
          "output_type": "stream",
          "name": "stdout",
          "text": [
            "Current balance: $0.00\n",
            "Deposited: $100.00\n",
            "Current balance: $100.00\n",
            "Withdrew: $50.00\n",
            "Current balance: $50.00\n",
            "Insufficient funds or invalid withdrawal amount.\n"
          ]
        }
      ]
    },
    {
      "cell_type": "markdown",
      "source": [
        " 6.Demonstrate runtime polymorphism using a method play() in a base class Instrument. Derive classes Guitar\n",
        "and Piano that implement their own version of play().\n",
        "\n",
        "\n"
      ],
      "metadata": {
        "id": "FtvPoCkKXHup"
      }
    },
    {
      "cell_type": "code",
      "source": [
        "# Base class\n",
        "class Instrument:\n",
        "    def play(self):\n",
        "        raise NotImplementedError(\"Subclasses must implement this method.\")\n",
        "\n",
        "# Derived class for Guitar\n",
        "class Guitar(Instrument):\n",
        "    def play(self):\n",
        "        return \"Strumming the guitar!\"\n",
        "\n",
        "# Derived class for Piano\n",
        "class Piano(Instrument):\n",
        "    def play(self):\n",
        "        return \"Playing the piano!\"\n",
        "\n",
        "# Function to demonstrate runtime polymorphism\n",
        "def instrument_play(instrument):\n",
        "    print(instrument.play())\n",
        "\n",
        "# Example usage\n",
        "if __name__ == \"__main__\":\n",
        "    guitar = Guitar()\n",
        "    piano = Piano()\n",
        "\n",
        "    instrument_play(guitar)  # Output: Strumming the guitar!\n",
        "    instrument_play(piano)    # Output: Playing the piano!"
      ],
      "metadata": {
        "colab": {
          "base_uri": "https://localhost:8080/"
        },
        "id": "VvsohnZfXGJP",
        "outputId": "35161bab-3a61-442e-a966-5d6a564c951a"
      },
      "execution_count": 8,
      "outputs": [
        {
          "output_type": "stream",
          "name": "stdout",
          "text": [
            "Strumming the guitar!\n",
            "Playing the piano!\n"
          ]
        }
      ]
    },
    {
      "cell_type": "markdown",
      "source": [
        " 7.Create a class MathOperations with a class method add_numbers() to add two numbers and a static\n",
        "method subtract_numbers() to subtract two numbers"
      ],
      "metadata": {
        "id": "h34GRVNXXXog"
      }
    },
    {
      "cell_type": "code",
      "source": [
        "class MathOperations:\n",
        "    @classmethod\n",
        "    def add_numbers(cls, a, b):\n",
        "        \"\"\"Class method to add two numbers.\"\"\"\n",
        "        return a + b\n",
        "\n",
        "    @staticmethod\n",
        "    def subtract_numbers(a, b):\n",
        "        \"\"\"Static method to subtract two numbers.\"\"\"\n",
        "        return a - b\n",
        "\n",
        "# Example usage\n",
        "if __name__ == \"__main__\":\n",
        "    # Using the class method to add numbers\n",
        "    sum_result = MathOperations.add_numbers(10, 5)\n",
        "    print(f\"Sum: {sum_result}\")  # Output: Sum: 15\n",
        "\n",
        "    # Using the static method to subtract numbers\n",
        "    difference_result = MathOperations.subtract_numbers(10, 5)\n",
        "    print(f\"Difference: {difference_result}\")  # Output: Difference: 5"
      ],
      "metadata": {
        "colab": {
          "base_uri": "https://localhost:8080/"
        },
        "id": "1Vm8yP8FXS8w",
        "outputId": "b61afadd-2b9f-4e65-ef70-ac25e233e1d0"
      },
      "execution_count": 9,
      "outputs": [
        {
          "output_type": "stream",
          "name": "stdout",
          "text": [
            "Sum: 15\n",
            "Difference: 5\n"
          ]
        }
      ]
    },
    {
      "cell_type": "markdown",
      "source": [
        " 8 Implement a class Person with a class method to count the total number of persons created."
      ],
      "metadata": {
        "id": "Ij_nksNwXo_g"
      }
    },
    {
      "cell_type": "code",
      "source": [
        "class Person:\n",
        "    # Class attribute to count the number of Person instances\n",
        "    total_persons = 0\n",
        "\n",
        "    def __init__(self, name):\n",
        "        # Instance attribute\n",
        "        self.name = name\n",
        "        # Increment the count by 1 each time a new instance is created\n",
        "        Person.total_persons += 1\n",
        "\n",
        "    @classmethod\n",
        "    def get_total_persons(cls):\n",
        "        \"\"\"Class method to get the total number of Person instances.\"\"\"\n",
        "        return cls.total_persons\n",
        "\n",
        "# Example usage\n",
        "if __name__ == \"__main__\":\n",
        "    # Create instances of Person\n",
        "    person1 = Person(\"Alice\")\n",
        "    person2 = Person(\"Bob\")\n",
        "    person3 = Person(\"Charlie\")\n",
        "\n",
        "    # Get the total number of persons created\n",
        "    total_count = Person.get_total_persons()\n",
        "    print(f\"Total Persons Created: {total_count}\")  # Output: Total Persons Created: 3"
      ],
      "metadata": {
        "colab": {
          "base_uri": "https://localhost:8080/"
        },
        "id": "iVu8tLDhXnUA",
        "outputId": "a1dfe6ba-fad6-490c-9164-4fc49042aedd"
      },
      "execution_count": 10,
      "outputs": [
        {
          "output_type": "stream",
          "name": "stdout",
          "text": [
            "Total Persons Created: 3\n"
          ]
        }
      ]
    },
    {
      "cell_type": "markdown",
      "source": [
        " 9.Write a class Fraction with attributes numerator and denominator. Override the str method to display the\n",
        "fraction as \"numerator/denominator\"."
      ],
      "metadata": {
        "id": "kKjC7yP9YCmz"
      }
    },
    {
      "cell_type": "code",
      "source": [
        "class Fraction:\n",
        "    def __init__(self, numerator, denominator):\n",
        "        \"\"\"Initialize a fraction with a numerator and denominator.\"\"\"\n",
        "        if denominator == 0:\n",
        "            raise ValueError(\"Denominator cannot be zero.\")\n",
        "        self.numerator = numerator\n",
        "        self.denominator = denominator\n",
        "\n",
        "    def __str__(self):\n",
        "        \"\"\"Return the string representation of the fraction.\"\"\"\n",
        "        return f\"{self.numerator}/{self.denominator}\"\n",
        "\n",
        "# Example usage\n",
        "if __name__ == \"__main__\":\n",
        "    # Create an instance of Fraction\n",
        "    fraction1 = Fraction(3, 4)\n",
        "    fraction2 = Fraction(5, 2)\n",
        "\n",
        "    # Print the fractions\n",
        "    print(f\"Fraction 1: {fraction1}\")  # Output: Fraction 1: 3/4\n",
        "    print(f\"Fraction 2: {fraction2}\")  # Output: Fraction 2: 5/2"
      ],
      "metadata": {
        "colab": {
          "base_uri": "https://localhost:8080/"
        },
        "id": "3BwzB3DfX6rM",
        "outputId": "0b3b9514-3ff0-4587-86e4-3df1e2987b1e"
      },
      "execution_count": 11,
      "outputs": [
        {
          "output_type": "stream",
          "name": "stdout",
          "text": [
            "Fraction 1: 3/4\n",
            "Fraction 2: 5/2\n"
          ]
        }
      ]
    },
    {
      "cell_type": "markdown",
      "source": [
        " 10.Demonstrate operator overloading by creating a class Vector and overriding the add method to add two\n",
        "vectors.\n",
        "\n",
        "\n"
      ],
      "metadata": {
        "id": "-5V770YNYRnQ"
      }
    },
    {
      "cell_type": "code",
      "source": [
        "class Vector:\n",
        "    def __init__(self, x, y):\n",
        "        \"\"\"Initialize a vector with x and y components.\"\"\"\n",
        "        self.x = x\n",
        "        self.y = y\n",
        "\n",
        "    def __add__(self, other):\n",
        "        \"\"\"Override the + operator to add two vectors.\"\"\"\n",
        "        if isinstance(other, Vector):\n",
        "            return Vector(self.x + other.x, self.y + other.y)\n",
        "        return NotImplemented  # Return NotImplemented if other is not a Vector\n",
        "\n",
        "    def __str__(self):\n",
        "        \"\"\"Return the string representation of the vector.\"\"\"\n",
        "        return f\"({self.x}, {self.y})\"\n",
        "\n",
        "# Example usage\n",
        "if __name__ == \"__main__\":\n",
        "    # Create two instances of Vector\n",
        "    vector1 = Vector(2, 3)\n",
        "    vector2 = Vector(5, 7)\n",
        "\n",
        "    # Add the two vectors\n",
        "    vector_sum = vector1 + vector2\n",
        "\n",
        "    # Print the resulting vector\n",
        "    print(f\"Vector 1: {vector1}\")       # Output: Vector 1: (2, 3)\n",
        "    print(f\"Vector 2: {vector2}\")       # Output: Vector 2: (5, 7)\n",
        "    print(f\"Sum of Vectors: {vector_sum}\")  # Output: Sum of Vectors: (7, 10)"
      ],
      "metadata": {
        "colab": {
          "base_uri": "https://localhost:8080/"
        },
        "id": "9Z3nHH0CYsZS",
        "outputId": "22df5c19-15fe-46aa-cf50-0243dbc8321d"
      },
      "execution_count": 13,
      "outputs": [
        {
          "output_type": "stream",
          "name": "stdout",
          "text": [
            "Vector 1: (2, 3)\n",
            "Vector 2: (5, 7)\n",
            "Sum of Vectors: (7, 10)\n"
          ]
        }
      ]
    },
    {
      "cell_type": "markdown",
      "source": [
        " 11.Create a class Person with attributes name and age. Add a method greet() that prints \"Hello, my name is\n",
        "{name} and I am {age} years old.\""
      ],
      "metadata": {
        "id": "iVWkOk8lYua4"
      }
    },
    {
      "cell_type": "code",
      "source": [
        "class Person:\n",
        "    def __init__(self, name, age):\n",
        "        \"\"\"Initialize a person with a name and age.\"\"\"\n",
        "        self.name = name\n",
        "        self.age = age\n",
        "\n",
        "    def greet(self):\n",
        "        \"\"\"Print a greeting message with the person's name and age.\"\"\"\n",
        "        print(f\"Hello, my name is {self.name} and I am {self.age} years old.\")\n",
        "\n",
        "# Example usage\n",
        "if __name__ == \"__main__\":\n",
        "    # Create an instance of Person\n",
        "    person1 = Person(\"Alice\", 30)\n",
        "\n",
        "    # Call the greet method\n",
        "    person1.greet()  # Output: Hello, my name is Alice and I am 30 years old."
      ],
      "metadata": {
        "colab": {
          "base_uri": "https://localhost:8080/"
        },
        "id": "tAS9Di3OYtHW",
        "outputId": "6231360e-360e-49b1-a355-ce0b0dc78dae"
      },
      "execution_count": 14,
      "outputs": [
        {
          "output_type": "stream",
          "name": "stdout",
          "text": [
            "Hello, my name is Alice and I am 30 years old.\n"
          ]
        }
      ]
    },
    {
      "cell_type": "markdown",
      "source": [
        " 12.Implement a class Student with attributes name and grades. Create a method average_grade() to compute\n",
        "the average of the grades."
      ],
      "metadata": {
        "id": "lCYZ0flIY6B5"
      }
    },
    {
      "cell_type": "code",
      "source": [
        "class Student:\n",
        "    def __init__(self, name, grades):\n",
        "        \"\"\"Initialize a Student with a name and a list of grades.\"\"\"\n",
        "        self.name = name\n",
        "        self.grades = grades  # Expecting grades to be a list of numbers\n",
        "\n",
        "    def average_grade(self):\n",
        "        \"\"\"Compute and return the average of the grades.\"\"\"\n",
        "        if not self.grades:  # Check if the grades list is empty\n",
        "            return 0\n",
        "        return sum(self.grades) / len(self.grades)\n",
        "\n",
        "# Example usage\n",
        "if __name__ == \"__main__\":\n",
        "    # Create an instance of Student with a name and a list of grades\n",
        "    student1 = Student(\"Alice\", [85, 90, 78, 92])\n",
        "\n",
        "    # Calculate and print the average grade\n",
        "    avg_grade = student1.average_grade()\n",
        "    print(f\"{student1.name}'s average grade is: {avg_grade:.2f}\")  # Output: Alice's average grade is: 86.25"
      ],
      "metadata": {
        "colab": {
          "base_uri": "https://localhost:8080/"
        },
        "id": "iVcUMQoDY4dh",
        "outputId": "cbf5e70c-1022-4a03-8476-cfc940022780"
      },
      "execution_count": 15,
      "outputs": [
        {
          "output_type": "stream",
          "name": "stdout",
          "text": [
            "Alice's average grade is: 86.25\n"
          ]
        }
      ]
    },
    {
      "cell_type": "markdown",
      "source": [
        " 13.Create a class Rectangle with methods set_dimensions() to set the dimensions and area() to calculate the\n",
        "area."
      ],
      "metadata": {
        "id": "5Xt1qoNyZGIB"
      }
    },
    {
      "cell_type": "code",
      "source": [
        "class Rectangle:\n",
        "    def __init__(self):\n",
        "        \"\"\"Initialize a Rectangle with default dimensions.\"\"\"\n",
        "        self.length = 0\n",
        "        self.width = 0\n",
        "\n",
        "    def set_dimensions(self, length, width):\n",
        "        \"\"\"Set the dimensions of the rectangle.\"\"\"\n",
        "        self.length = length\n",
        "        self.width = width\n",
        "\n",
        "    def area(self):\n",
        "        \"\"\"Calculate and return the area of the rectangle.\"\"\"\n",
        "        return self.length * self.width\n",
        "\n",
        "# Example usage\n",
        "if __name__ == \"__main__\":\n",
        "    # Create an instance of Rectangle\n",
        "    rectangle = Rectangle()\n",
        "\n",
        "    # Set dimensions\n",
        "    rectangle.set_dimensions(10, 5)\n",
        "\n",
        "    # Calculate and print the area\n",
        "    area = rectangle.area()\n",
        "    print(f\"Area of the rectangle: {area}\")  # Output: Area of the rectangle: 50"
      ],
      "metadata": {
        "colab": {
          "base_uri": "https://localhost:8080/"
        },
        "id": "voGgNb_WZFHU",
        "outputId": "37c7dd3a-cde4-49c2-e719-0347b98b97c0"
      },
      "execution_count": 16,
      "outputs": [
        {
          "output_type": "stream",
          "name": "stdout",
          "text": [
            "Area of the rectangle: 50\n"
          ]
        }
      ]
    },
    {
      "cell_type": "markdown",
      "source": [
        " 14.Create a class Employee with a method calculate_salary() that computes the salary based on hours worked\n",
        "and hourly rate. Create a derived class Manager that adds a bonus to the salary."
      ],
      "metadata": {
        "id": "9QigBwfmZSb1"
      }
    },
    {
      "cell_type": "code",
      "source": [
        "\n",
        "class Employee:\n",
        "    def __init__(self, name, hours_worked, hourly_rate):\n",
        "        \"\"\"Initialize an Employee with a name, hours worked, and hourly rate.\"\"\"\n",
        "        self.name = name\n",
        "        self.hours_worked = hours_worked\n",
        "        self.hourly_rate = hourly_rate\n",
        "\n",
        "    def calculate_salary(self):\n",
        "        \"\"\"Calculate the salary based on hours worked and hourly rate.\"\"\"\n",
        "        return self.hours_worked * self.hourly_rate\n",
        "\n",
        "class Manager(Employee):\n",
        "    def __init__(self, name, hours_worked, hourly_rate, bonus):\n",
        "        \"\"\"Initialize a Manager with a name, hours worked, hourly rate, and bonus.\"\"\"\n",
        "        super().__init__(name, hours_worked, hourly_rate)\n",
        "        self.bonus = bonus\n",
        "\n",
        "    def calculate_salary(self):\n",
        "        \"\"\"Calculate the salary including a bonus.\"\"\"\n",
        "        base_salary = super().calculate_salary()\n",
        "        return base_salary + self.bonus\n",
        "\n",
        "# Example usage\n",
        "if __name__ == \"__main__\":\n",
        "    # Create an instance of Employee\n",
        "    employee = Employee(\"John Doe\", 40, 20)\n",
        "    employee_salary = employee.calculate_salary()\n",
        "    print(f\"{employee.name}'s salary is: ${employee_salary:.2f}\")  # Output: John's salary is: $800.00\n",
        "\n",
        "    # Create an instance of Manager\n",
        "    manager = Manager(\"Jane Smith\", 40, 30, 500)\n",
        "    manager_salary = manager.calculate_salary()\n",
        "    print(f\"{manager.name}'s salary is: ${manager_salary:.2f}\")  # Output: Jane's salary is: $1700.00"
      ],
      "metadata": {
        "colab": {
          "base_uri": "https://localhost:8080/"
        },
        "id": "jZUpiyD7ZROt",
        "outputId": "1958ffa1-3039-4ee9-9827-6ff8bc3f5e28"
      },
      "execution_count": 17,
      "outputs": [
        {
          "output_type": "stream",
          "name": "stdout",
          "text": [
            "John Doe's salary is: $800.00\n",
            "Jane Smith's salary is: $1700.00\n"
          ]
        }
      ]
    },
    {
      "cell_type": "markdown",
      "source": [
        " 15.Create a class Product with attributes name, price, and quantity. Implement a method total_price() that\n",
        "calculates the total price of the product.\n",
        "\n",
        "\n"
      ],
      "metadata": {
        "id": "71eIL9rmZiyt"
      }
    },
    {
      "cell_type": "code",
      "source": [
        "class Product:\n",
        "    def __init__(self, name, price, quantity):\n",
        "        \"\"\"Initialize the Product with a name, price, and quantity.\"\"\"\n",
        "        self.name = name\n",
        "        self.price = price\n",
        "        self.quantity = quantity\n",
        "\n",
        "    def total_price(self):\n",
        "        \"\"\"Calculate the total price of the product.\"\"\"\n",
        "        return self.price * self.quantity\n",
        "\n",
        "# Example usage\n",
        "if __name__ == \"__main__\":\n",
        "    # Create an instance of Product\n",
        "    product = Product(\"Laptop\", 999.99, 3)\n",
        "\n",
        "    # Calculate and print the total price\n",
        "    total = product.total_price()\n",
        "    print(f\"Total price for {product.quantity} {product.name}(s): ${total:.2f}\")  # Output: Total price for 3 Laptop(s): $2999.97"
      ],
      "metadata": {
        "colab": {
          "base_uri": "https://localhost:8080/"
        },
        "id": "2tnQQD1IZhTR",
        "outputId": "91514252-b156-44ed-ffce-257022f4adcf"
      },
      "execution_count": 18,
      "outputs": [
        {
          "output_type": "stream",
          "name": "stdout",
          "text": [
            "Total price for 3 Laptop(s): $2999.97\n"
          ]
        }
      ]
    },
    {
      "cell_type": "markdown",
      "source": [
        " 16.Create a class Animal with an abstract method sound(). Create two derived classes Cow and Sheep that\n",
        "implement the sound() method"
      ],
      "metadata": {
        "id": "74SvK2p_ZuwW"
      }
    },
    {
      "cell_type": "code",
      "source": [
        "from abc import ABC, abstractmethod\n",
        "\n",
        "class Animal(ABC):\n",
        "    @abstractmethod\n",
        "    def sound(self):\n",
        "        \"\"\"Method to return the sound made by the animal.\"\"\"\n",
        "        pass\n",
        "\n",
        "class Cow(Animal):\n",
        "    def sound(self):\n",
        "        \"\"\"Return the sound made by a cow.\"\"\"\n",
        "        return \"Moo\"\n",
        "\n",
        "class Sheep(Animal):\n",
        "    def sound(self):\n",
        "        \"\"\"Return the sound made by a sheep.\"\"\"\n",
        "        return \"Baa\"\n",
        "\n",
        "# Example usage\n",
        "if __name__ == \"__main__\":\n",
        "    # Create instances of Cow and Sheep\n",
        "    cow = Cow()\n",
        "    sheep = Sheep()\n",
        "\n",
        "    # Print the sounds made by the animals\n",
        "    print(f\"The cow says: {cow.sound()}\")    # Output: The cow says: Moo\n",
        "    print(f\"The sheep says: {sheep.sound()}\")  # Output: The sheep says: Baa"
      ],
      "metadata": {
        "colab": {
          "base_uri": "https://localhost:8080/"
        },
        "id": "6_aCF0LbZtml",
        "outputId": "b3555956-a012-44a9-9445-4de7d16cd40a"
      },
      "execution_count": 19,
      "outputs": [
        {
          "output_type": "stream",
          "name": "stdout",
          "text": [
            "The cow says: Moo\n",
            "The sheep says: Baa\n"
          ]
        }
      ]
    },
    {
      "cell_type": "markdown",
      "source": [
        " 17.Create a class Book with attributes title, author, and year_published. Add a method get_book_info() that\n",
        "returns a formatted string with the book's details."
      ],
      "metadata": {
        "id": "pHExOkauZ7Wn"
      }
    },
    {
      "cell_type": "code",
      "source": [
        "class Book:\n",
        "    def __init__(self, title, author, year_published):\n",
        "        \"\"\"Initialize the Book with a title, author, and year published.\"\"\"\n",
        "        self.title = title\n",
        "        self.author = author\n",
        "        self.year_published = year_published\n",
        "\n",
        "    def get_book_info(self):\n",
        "        \"\"\"Return a formatted string with the book's details.\"\"\"\n",
        "        return f\"'{self.title}' by {self.author}, published in {self.year_published}\"\n",
        "\n",
        "# Example usage\n",
        "if __name__ == \"__main__\":\n",
        "    # Create an instance of Book\n",
        "    book = Book(\"1984\", \"George Orwell\", 1949)\n",
        "\n",
        "    # Get and print the book information\n",
        "    book_info = book.get_book_info()\n",
        "    print(book_info)  # Output: '1984' by George Orwell, published in 1949"
      ],
      "metadata": {
        "colab": {
          "base_uri": "https://localhost:8080/"
        },
        "id": "RIiFP_poZ5g4",
        "outputId": "3e35042c-f8f3-4c11-e0b2-3cae92593f49"
      },
      "execution_count": 20,
      "outputs": [
        {
          "output_type": "stream",
          "name": "stdout",
          "text": [
            "'1984' by George Orwell, published in 1949\n"
          ]
        }
      ]
    },
    {
      "cell_type": "markdown",
      "source": [
        " 18.Create a class House with attributes address and price. Create a derived class Mansion that adds an\n",
        "attribute number_of_rooms."
      ],
      "metadata": {
        "id": "g4vnVGzxaHrD"
      }
    },
    {
      "cell_type": "code",
      "source": [
        "class House:\n",
        "    def __init__(self, address, price):\n",
        "        \"\"\"Initialize the House with an address and price.\"\"\"\n",
        "        self.address = address\n",
        "        self.price = price\n",
        "\n",
        "    def get_info(self):\n",
        "        \"\"\"Return a formatted string with the house's details.\"\"\"\n",
        "        return f\"House located at {self.address}, priced at ${self.price:,.2f}\"\n",
        "\n",
        "class Mansion(House):\n",
        "    def __init__(self, address, price, number_of_rooms):\n",
        "        \"\"\"Initialize the Mansion with an address, price, and number of rooms.\"\"\"\n",
        "        super().__init__(address, price)  # Call the constructor of the House class\n",
        "        self.number_of_rooms = number_of_rooms\n",
        "\n",
        "    def get_info(self):\n",
        "        \"\"\"Return a formatted string with the mansion's details, including the number of rooms.\"\"\"\n",
        "        base_info = super().get_info()  # Get info from the base class\n",
        "        return f\"{base_info}, with {self.number_of_rooms} rooms\"\n",
        "\n",
        "# Example usage\n",
        "if __name__ == \"__main__\":\n",
        "    # Create an instance of House\n",
        "    house = House(\"123 Elm St\", 250000)\n",
        "\n",
        "    # Create an instance of Mansion\n",
        "    mansion = Mansion(\"456 Oak Ave\", 8500000, 10)\n",
        "\n",
        "    # Get and print the house information\n",
        "    print(house.get_info())   # Output: House located at 123 Elm St, priced at $250,000.00\n",
        "\n",
        "    # Get and print the mansion information\n",
        "    print(mansion.get_info()) # Output: House located at 456 Oak Ave, priced at $8,500,000.00, with 10 rooms"
      ],
      "metadata": {
        "colab": {
          "base_uri": "https://localhost:8080/"
        },
        "id": "FPwvLrr8aGeJ",
        "outputId": "9823b31a-1d91-42a6-9dd7-aa0f375182b7"
      },
      "execution_count": 21,
      "outputs": [
        {
          "output_type": "stream",
          "name": "stdout",
          "text": [
            "House located at 123 Elm St, priced at $250,000.00\n",
            "House located at 456 Oak Ave, priced at $8,500,000.00, with 10 rooms\n"
          ]
        }
      ]
    }
  ]
}